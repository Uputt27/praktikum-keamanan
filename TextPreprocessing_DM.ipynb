{
 "cells": [
  {
   "cell_type": "code",
   "execution_count": 6,
   "id": "51562aae-4bfe-460a-a25d-5f162e460adb",
   "metadata": {},
   "outputs": [
    {
     "name": "stdout",
     "output_type": "stream",
     "text": [
      "Requirement already satisfied: Sastrawi in c:\\users\\admin\\anaconda3\\lib\\site-packages (1.0.1)\n"
     ]
    }
   ],
   "source": [
    "!pip install Sastrawi"
   ]
  },
  {
   "cell_type": "code",
   "execution_count": 3,
   "id": "6fa1de08-a0e3-4107-bf91-4a49571f5b84",
   "metadata": {},
   "outputs": [
    {
     "name": "stdout",
     "output_type": "stream",
     "text": [
      "Dokumen: Barangnya sesuai harapan, cakep dan mulus. Penjualnya juga baik dan ramah. Overall, puas banget belanja di sini.\n",
      "Case Folding : barangnya sesuai harapan, cakep dan mulus. penjualnya juga baik dan ramah. overall, puas banget belanja di sini.\n",
      "Token:\n",
      "['barangnya', 'sesuai', 'harapan', 'cakep', 'dan', 'mulus', 'penjualnya', 'juga', 'baik', 'dan', 'ramah', 'overall', 'puas', 'banget', 'belanja', 'di', 'sini']\n",
      "Hasil Stemming:\n",
      "barang sesuai harap cakep dan mulus jual juga baik dan ramah overall puas banget belanja di sini\n",
      "Hasil Setelah Stopword Removal:\n",
      "['barang', 'sesuai', 'harap', 'cakep', 'mulus', 'jual', 'baik', 'ramah', 'overall', 'puas', 'banget', 'belanja', 'sini']\n"
     ]
    }
   ],
   "source": [
    "dokumen1=\"Barangnya sesuai harapan, cakep dan mulus. Penjualnya juga baik dan ramah. Overall, puas banget belanja di sini.\"\n",
    "print(\"Dokumen: \"+dokumen1)\n",
    "#Case Folding\n",
    "hasil_cf = str.lower(dokumen1)\n",
    "print(\"Case Folding : \"+hasil_cf);\n",
    "\n",
    "#Tokenizing\n",
    "from nltk.tokenize import RegexpTokenizer\n",
    "tokenizer = RegexpTokenizer(r'\\w+')\n",
    "hasil_token = tokenizer.tokenize(hasil_cf)\n",
    "print(\"Token:\")\n",
    "print (hasil_token)\n",
    "\n",
    "# Stemming\n",
    "from Sastrawi.Stemmer.StemmerFactory import StemmerFactory\n",
    "factory = StemmerFactory()\n",
    "stemmer = factory.create_stemmer()\n",
    "input_stemm = str(hasil_token)\n",
    "hasil_stemm = stemmer.stem(input_stemm)\n",
    "print(\"Hasil Stemming:\")\n",
    "print (hasil_stemm)\n",
    "\n",
    "# Filtering\n",
    "# Tokenisasi ulang hasil stemming\n",
    "token_stemm = tokenizer.tokenize(hasil_stemm)\n",
    "\n",
    "# Ambil daftar stopwords\n",
    "from Sastrawi.StopWordRemover.StopWordRemoverFactory import StopWordRemoverFactory\n",
    "stop_factory = StopWordRemoverFactory()\n",
    "stopwords = stop_factory.get_stop_words()\n",
    "\n",
    "# Hapus stopwords dari hasil stemming\n",
    "hasil_final = [word for word in token_stemm if word not in stopwords]\n",
    "print(\"Hasil Setelah Stopword Removal:\")\n",
    "print(hasil_final)"
   ]
  },
  {
   "cell_type": "code",
   "execution_count": 10,
   "id": "a736748c-f2fa-4918-bb70-6c690644881c",
   "metadata": {},
   "outputs": [
    {
     "name": "stdout",
     "output_type": "stream",
     "text": [
      "\n",
      "--- Dokumen 1 ---\n",
      "Dokumen: Barangnya sesuai harapan, cakep dan mulus. Penjualnya juga baik dan ramah. Overall, puas banget belanja di sini.\n",
      "Case Folding : barangnya sesuai harapan, cakep dan mulus. penjualnya juga baik dan ramah. overall, puas banget belanja di sini.\n",
      "Token:\n",
      "['barangnya', 'sesuai', 'harapan', 'cakep', 'dan', 'mulus', 'penjualnya', 'juga', 'baik', 'dan', 'ramah', 'overall', 'puas', 'banget', 'belanja', 'di', 'sini']\n",
      "Hasil Stemming:\n",
      "barang sesuai harap cakep dan mulus jual juga baik dan ramah overall puas banget belanja di sini\n",
      "Hasil Setelah Stopword Removal:\n",
      "['barang', 'sesuai', 'harap', 'cakep', 'mulus', 'jual', 'baik', 'ramah', 'overall', 'puas', 'banget', 'belanja', 'sini']\n",
      "==================================================\n",
      "\n",
      "--- Dokumen 2 ---\n",
      "Dokumen: Sesuai pesanan. Sayangnya pengiriman agak telat.\n",
      "Case Folding : sesuai pesanan. sayangnya pengiriman agak telat.\n",
      "Token:\n",
      "['sesuai', 'pesanan', 'sayangnya', 'pengiriman', 'agak', 'telat']\n",
      "Hasil Stemming:\n",
      "sesuai pesan sayang kirim agak telat\n",
      "Hasil Setelah Stopword Removal:\n",
      "['sesuai', 'pesan', 'sayang', 'kirim', 'telat']\n",
      "==================================================\n",
      "\n",
      "--- Dokumen 3 ---\n",
      "Dokumen: Puas banget belanja di sini. Barang ok dan harga juga sesuai kantong. Sip deh.\n",
      "Case Folding : puas banget belanja di sini. barang ok dan harga juga sesuai kantong. sip deh.\n",
      "Token:\n",
      "['puas', 'banget', 'belanja', 'di', 'sini', 'barang', 'ok', 'dan', 'harga', 'juga', 'sesuai', 'kantong', 'sip', 'deh']\n",
      "Hasil Stemming:\n",
      "puas banget belanja di sini barang ok dan harga juga sesuai kantong sip deh\n",
      "Hasil Setelah Stopword Removal:\n",
      "['puas', 'banget', 'belanja', 'sini', 'barang', 'harga', 'sesuai', 'kantong', 'sip', 'deh']\n",
      "==================================================\n"
     ]
    }
   ],
   "source": [
    "from nltk.tokenize import RegexpTokenizer\n",
    "from Sastrawi.Stemmer.StemmerFactory import StemmerFactory\n",
    "from Sastrawi.StopWordRemover.StopWordRemoverFactory import StopWordRemoverFactory\n",
    "\n",
    "# Inisialisasi alat NLP\n",
    "tokenizer = RegexpTokenizer(r'\\w+')\n",
    "stemmer = StemmerFactory().create_stemmer()\n",
    "stopwords = StopWordRemoverFactory().get_stop_words()\n",
    "\n",
    "# Fungsi untuk preprocessing dokumen\n",
    "def preprocess(doc):\n",
    "    print(\"Dokumen:\", doc)\n",
    "    \n",
    "    # Case Folding\n",
    "    hasil_cf = str.lower(doc)\n",
    "    print(\"Case Folding :\", hasil_cf)\n",
    "    \n",
    "    # Tokenizing\n",
    "    hasil_token = tokenizer.tokenize(hasil_cf)\n",
    "    print(\"Token:\")\n",
    "    print(hasil_token)\n",
    "    \n",
    "    # Stemming\n",
    "    input_stemm = str(hasil_token)\n",
    "    hasil_stemm = stemmer.stem(input_stemm)\n",
    "    print(\"Hasil Stemming:\")\n",
    "    print(hasil_stemm)\n",
    "    \n",
    "    # Filtering\n",
    "    token_stemm = tokenizer.tokenize(hasil_stemm)\n",
    "    hasil_final = [word for word in token_stemm if word not in stopwords]\n",
    "    print(\"Hasil Setelah Stopword Removal:\")\n",
    "    print(hasil_final)\n",
    "    print(\"=\"*50)\n",
    "\n",
    "# Daftar dokumen\n",
    "dokumen_list = [\n",
    "    \"Barangnya sesuai harapan, cakep dan mulus. Penjualnya juga baik dan ramah. Overall, puas banget belanja di sini.\",\n",
    "    \"Sesuai pesanan. Sayangnya pengiriman agak telat.\",\n",
    "    \"Puas banget belanja di sini. Barang ok dan harga juga sesuai kantong. Sip deh.\"\n",
    "]\n",
    "\n",
    "# Proses semua dokumen\n",
    "for i, doc in enumerate(dokumen_list, start=1):\n",
    "    print(f\"\\n--- Dokumen {i} ---\")\n",
    "    preprocess(doc)\n"
   ]
  },
  {
   "cell_type": "code",
   "execution_count": null,
   "id": "5359109c-a310-4277-a39b-111b5fa267ec",
   "metadata": {},
   "outputs": [],
   "source": []
  }
 ],
 "metadata": {
  "kernelspec": {
   "display_name": "Python [conda env:base] *",
   "language": "python",
   "name": "conda-base-py"
  },
  "language_info": {
   "codemirror_mode": {
    "name": "ipython",
    "version": 3
   },
   "file_extension": ".py",
   "mimetype": "text/x-python",
   "name": "python",
   "nbconvert_exporter": "python",
   "pygments_lexer": "ipython3",
   "version": "3.12.7"
  }
 },
 "nbformat": 4,
 "nbformat_minor": 5
}
