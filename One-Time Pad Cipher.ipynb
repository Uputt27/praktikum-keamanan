{
 "cells": [
  {
   "cell_type": "code",
   "execution_count": 7,
   "id": "89b35fb8-3bc7-4462-b3f7-44dcb492d52c",
   "metadata": {},
   "outputs": [
    {
     "name": "stdout",
     "output_type": "stream",
     "text": [
      "=== One-Time Pad Cipher ===\n"
     ]
    },
    {
     "name": "stdin",
     "output_type": "stream",
     "text": [
      "Mode (encrypt/decrypt):  encrypt\n",
      "Enter plaintext:  lestary\n"
     ]
    },
    {
     "name": "stdout",
     "output_type": "stream",
     "text": [
      "\n",
      "--- Encryption Result ---\n",
      "Plaintext  : LESTARY\n",
      "Key        : MOYAJUV\n",
      "Ciphertext : XSQTJLT\n"
     ]
    }
   ],
   "source": [
    "import random\n",
    "import string\n",
    "\n",
    "def generate_key(length):\n",
    "    \"\"\"Generate a random key of uppercase letters.\"\"\"\n",
    "    return ''.join(random.choice(string.ascii_uppercase) for _ in range(length))\n",
    "\n",
    "def text_to_numbers(text):\n",
    "    \"\"\"Convert A-Z to 0-25\"\"\"\n",
    "    return [ord(c) - ord('A') for c in text]\n",
    "\n",
    "def numbers_to_text(numbers):\n",
    "    \"\"\"Convert 0-25 to A-Z\"\"\"\n",
    "    return ''.join(chr(n + ord('A')) for n in numbers)\n",
    "\n",
    "def otp_encrypt(plaintext, key):\n",
    "    plain_nums = text_to_numbers(plaintext)\n",
    "    key_nums = text_to_numbers(key)\n",
    "    cipher_nums = [(p + k) % 26 for p, k in zip(plain_nums, key_nums)]\n",
    "    return numbers_to_text(cipher_nums)\n",
    "\n",
    "def otp_decrypt(ciphertext, key):\n",
    "    cipher_nums = text_to_numbers(ciphertext)\n",
    "    key_nums = text_to_numbers(key)\n",
    "    plain_nums = [(c - k + 26) % 26 for c, k in zip(cipher_nums, key_nums)]\n",
    "    return numbers_to_text(plain_nums)\n",
    "\n",
    "def clean_input(text):\n",
    "    \"\"\"Uppercase and remove non-letter characters.\"\"\"\n",
    "    return ''.join(filter(str.isalpha, text.upper()))\n",
    "\n",
    "if __name__ == \"__main__\":\n",
    "    print(\"=== One-Time Pad Cipher ===\")\n",
    "    mode = input(\"Mode (encrypt/decrypt): \").strip().lower()\n",
    "\n",
    "    if mode == \"encrypt\":\n",
    "        plaintext = clean_input(input(\"Enter plaintext: \"))\n",
    "        key = generate_key(len(plaintext))\n",
    "        ciphertext = otp_encrypt(plaintext, key)\n",
    "        print(\"\\n--- Encryption Result ---\")\n",
    "        print(\"Plaintext  :\", plaintext)\n",
    "        print(\"Key        :\", key)\n",
    "        print(\"Ciphertext :\", ciphertext)\n",
    "\n",
    "    elif mode == \"decrypt\":\n",
    "        ciphertext = clean_input(input(\"Enter ciphertext: \"))\n",
    "        key = clean_input(input(\"Enter key (same length): \"))\n",
    "        if len(ciphertext) != len(key):\n",
    "            print(\"Error: key length must match ciphertext length.\")\n",
    "        else:\n",
    "            plaintext = otp_decrypt(ciphertext, key)\n",
    "            print(\"\\n--- Decryption Result ---\")\n",
    "            print(\"Ciphertext :\", ciphertext)\n",
    "            print(\"Key        :\", key)\n",
    "            print(\"Plaintext  :\", plaintext)\n",
    "    else:\n",
    "        print(\"Invalid mode. Use 'encrypt' or 'decrypt'.\")\n"
   ]
  },
  {
   "cell_type": "code",
   "execution_count": 14,
   "id": "f4e03d57-d9cf-4105-83a7-ff737dd8531e",
   "metadata": {},
   "outputs": [
    {
     "name": "stdout",
     "output_type": "stream",
     "text": [
      "=== One-Time Pad Cipher ===\n"
     ]
    },
    {
     "name": "stdin",
     "output_type": "stream",
     "text": [
      "Mode (encrypt/decrypt):  decrypt\n",
      "Enter ciphertext:  MAKAN\n",
      "Enter key (same length):  MINUM\n"
     ]
    },
    {
     "name": "stdout",
     "output_type": "stream",
     "text": [
      "\n",
      "--- Decryption Result ---\n",
      "Ciphertext : MAKAN\n",
      "Key        : MINUM\n",
      "Plaintext  : ASXGB\n"
     ]
    }
   ],
   "source": [
    "import random\n",
    "import string\n",
    "\n",
    "def generate_key(length):\n",
    "    \"\"\"Generate a random key of uppercase letters.\"\"\"\n",
    "    return ''.join(random.choice(string.ascii_uppercase) for _ in range(length))\n",
    "\n",
    "def text_to_numbers(text):\n",
    "    \"\"\"Convert A-Z to 0-25\"\"\"\n",
    "    return [ord(c) - ord('A') for c in text]\n",
    "\n",
    "def numbers_to_text(numbers):\n",
    "    \"\"\"Convert 0-25 to A-Z\"\"\"\n",
    "    return ''.join(chr(n + ord('A')) for n in numbers)\n",
    "\n",
    "def otp_encrypt(plaintext, key):\n",
    "    plain_nums = text_to_numbers(plaintext)\n",
    "    key_nums = text_to_numbers(key)\n",
    "    cipher_nums = [(p + k) % 26 for p, k in zip(plain_nums, key_nums)]\n",
    "    return numbers_to_text(cipher_nums)\n",
    "\n",
    "def otp_decrypt(ciphertext, key):\n",
    "    cipher_nums = text_to_numbers(ciphertext)\n",
    "    key_nums = text_to_numbers(key)\n",
    "    plain_nums = [(c - k + 26) % 26 for c, k in zip(cipher_nums, key_nums)]\n",
    "    return numbers_to_text(plain_nums)\n",
    "\n",
    "def clean_input(text):\n",
    "    \"\"\"Uppercase and remove non-letter characters.\"\"\"\n",
    "    return ''.join(filter(str.isalpha, text.upper()))\n",
    "\n",
    "if __name__ == \"__main__\":\n",
    "    print(\"=== One-Time Pad Cipher ===\")\n",
    "    mode = input(\"Mode (encrypt/decrypt): \").strip().lower()\n",
    "\n",
    "    if mode == \"encrypt\":\n",
    "        plaintext = clean_input(input(\"Enter plaintext: \"))\n",
    "        key = generate_key(len(plaintext))\n",
    "        ciphertext = otp_encrypt(plaintext, key)\n",
    "        print(\"\\n--- Encryption Result ---\")\n",
    "        print(\"Plaintext  :\", plaintext)\n",
    "        print(\"Key        :\", key)\n",
    "        print(\"Ciphertext :\", ciphertext)\n",
    "\n",
    "    elif mode == \"decrypt\":\n",
    "        ciphertext = clean_input(input(\"Enter ciphertext: \"))\n",
    "        key = clean_input(input(\"Enter key (same length): \"))\n",
    "        if len(ciphertext) != len(key):\n",
    "            print(\"Error: key length must match ciphertext length.\")\n",
    "        else:\n",
    "            plaintext = otp_decrypt(ciphertext, key)\n",
    "            print(\"\\n--- Decryption Result ---\")\n",
    "            print(\"Ciphertext :\", ciphertext)\n",
    "            print(\"Key        :\", key)\n",
    "            print(\"Plaintext  :\", plaintext)\n",
    "    else:\n",
    "        print(\"Invalid mode. Use 'encrypt' or 'decrypt'.\")\n"
   ]
  },
  {
   "cell_type": "code",
   "execution_count": null,
   "id": "4174167e-f619-42c1-ae07-ce5b74a42abd",
   "metadata": {},
   "outputs": [],
   "source": []
  }
 ],
 "metadata": {
  "kernelspec": {
   "display_name": "Python 3 (ipykernel)",
   "language": "python",
   "name": "python3"
  },
  "language_info": {
   "codemirror_mode": {
    "name": "ipython",
    "version": 3
   },
   "file_extension": ".py",
   "mimetype": "text/x-python",
   "name": "python",
   "nbconvert_exporter": "python",
   "pygments_lexer": "ipython3",
   "version": "3.12.7"
  }
 },
 "nbformat": 4,
 "nbformat_minor": 5
}
