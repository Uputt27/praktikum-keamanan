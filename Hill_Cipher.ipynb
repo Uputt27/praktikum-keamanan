{
 "cells": [
  {
   "cell_type": "code",
   "execution_count": 10,
   "id": "b1a53726-245a-41a0-968e-1253c2093f12",
   "metadata": {},
   "outputs": [
    {
     "name": "stdin",
     "output_type": "stream",
     "text": [
      "Masukkan plaintext (A-Z):  UPUTSUKAMINUMBOBA\n",
      "Ukuran matriks kunci :  3\n"
     ]
    },
    {
     "name": "stdout",
     "output_type": "stream",
     "text": [
      "Masukkan matriks kunci 3x3 (setiap baris dipisahkan spasi):\n"
     ]
    },
    {
     "name": "stdin",
     "output_type": "stream",
     "text": [
      "Baris 1:  2 7 3\n",
      "Baris 2:  4 1 8\n",
      "Baris 3:  5 6 9\n"
     ]
    },
    {
     "name": "stdout",
     "output_type": "stream",
     "text": [
      "\n",
      "=== HASIL ENKRIPSI HILL CIPHER ===\n",
      "Plaintext  : UPUTSUKAMINUMBOBA\n",
      "Matriks Kunci:\n",
      " [[2 7 3]\n",
      " [4 1 8]\n",
      " [5 6 9]]\n",
      "Ciphertext : IHZBGMPSVWJFGRDKIP\n"
     ]
    }
   ],
   "source": [
    "import numpy as np\n",
    "from numpy.linalg import LinAlgError\n",
    "\n",
    "def text_to_numbers(text):\n",
    "    return [ord(char.upper()) - ord('A') + 1 for char in text if char.isalpha()]\n",
    "\n",
    "def numbers_to_text(numbers):\n",
    "    return ''.join(chr((num - 1) % 26 + ord('A')) for num in numbers)\n",
    "\n",
    "def create_blocks(numbers, block_size):\n",
    "    while len(numbers) % block_size != 0:\n",
    "        numbers.append(0)\n",
    "    return [numbers[i:i + block_size] for i in range(0, len(numbers), block_size)]\n",
    "\n",
    "def is_invertible_mod_26(matrix):\n",
    "    try:\n",
    "        det = int(round(np.linalg.det(matrix)))\n",
    "        return np.gcd(det, 26) == 1\n",
    "    except LinAlgError:\n",
    "        return False\n",
    "\n",
    "def hill_cipher_encrypt(plaintext, key_matrix):\n",
    "    m = key_matrix.shape[0]\n",
    "\n",
    "    if not is_invertible_mod_26(key_matrix):\n",
    "        raise ValueError(\"Matriks kunci TIDAK INVERTIBLE dalam mod 26\")\n",
    "\n",
    "    angka_plain = text_to_numbers(plaintext)\n",
    "    blok_plain = create_blocks(angka_plain, m)\n",
    "\n",
    "    cipher_numbers = []\n",
    "\n",
    "    for blok in blok_plain:\n",
    "        P = np.array(blok).reshape(-1, 1)\n",
    "        C = np.dot(key_matrix, P) % 26\n",
    "        C = C.T\n",
    "        cipher_numbers.extend(C.flatten().astype(int).tolist())\n",
    "\n",
    "    return numbers_to_text(cipher_numbers)\n",
    "\n",
    "def input_matrix(n):\n",
    "    print(f\"Masukkan matriks kunci {n}x{n} (setiap baris dipisahkan spasi):\")\n",
    "    matrix = []\n",
    "    for i in range(n):\n",
    "        baris = list(map(int, input(f\"Baris {i+1}: \").split()))\n",
    "        if len(baris) != n:\n",
    "            raise ValueError(\"Jumlah elemen per baris harus sama dengan ukuran matriks.\")\n",
    "        matrix.append(baris)\n",
    "    return np.array(matrix)\n",
    "\n",
    "if __name__ == \"__main__\":\n",
    "    try:\n",
    "        plaintext = input(\"Masukkan plaintext (A-Z): \").strip().upper()\n",
    "        ukuran = int(input(\"Ukuran matriks kunci : \"))\n",
    "        key_matrix = input_matrix(ukuran)\n",
    "\n",
    "        hasil_cipher = hill_cipher_encrypt(plaintext, key_matrix)\n",
    "\n",
    "        print(\"\\n=== HASIL ENKRIPSI HILL CIPHER ===\")\n",
    "        print(\"Plaintext  :\", plaintext)\n",
    "        print(\"Matriks Kunci:\\n\", key_matrix)\n",
    "        print(\"Ciphertext :\", hasil_cipher)\n",
    "\n",
    "    except Exception as e:\n",
    "        print(\"Terjadi kesalahan:\", e)\n"
   ]
  }
 ],
 "metadata": {
  "kernelspec": {
   "display_name": "Python 3 (ipykernel)",
   "language": "python",
   "name": "python3"
  },
  "language_info": {
   "codemirror_mode": {
    "name": "ipython",
    "version": 3
   },
   "file_extension": ".py",
   "mimetype": "text/x-python",
   "name": "python",
   "nbconvert_exporter": "python",
   "pygments_lexer": "ipython3",
   "version": "3.12.7"
  }
 },
 "nbformat": 4,
 "nbformat_minor": 5
}
